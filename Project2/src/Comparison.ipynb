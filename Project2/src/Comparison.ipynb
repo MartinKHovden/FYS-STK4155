{
 "cells": [
  {
   "cell_type": "markdown",
   "metadata": {},
   "source": [
    "# COMPARISON WITH SKLEARN"
   ]
  },
  {
   "cell_type": "code",
   "execution_count": 3,
   "metadata": {},
   "outputs": [],
   "source": [
    "from sklearn.neural_network import MLPRegressor\n",
    "from sklearn.metrics import roc_auc_score, mean_squared_error\n",
    "from sklearn.preprocessing import StandardScaler\n",
    "from nn import NN, Layer\n",
    "from project1_lib import make_franke_vecs\n",
    "import numpy as np\n",
    "import time"
   ]
  },
  {
   "cell_type": "markdown",
   "metadata": {},
   "source": [
    "Reading the data"
   ]
  },
  {
   "cell_type": "code",
   "execution_count": 4,
   "metadata": {},
   "outputs": [],
   "source": [
    "data, target = make_franke_vecs(0, 20)\n",
    "target = np.expand_dims(target, axis=1)\n",
    "sc = StandardScaler()\n",
    "data = sc.fit_transform(data)"
   ]
  },
  {
   "cell_type": "markdown",
   "metadata": {},
   "source": [
    "Setting up the neural network (self made)"
   ]
  },
  {
   "cell_type": "code",
   "execution_count": 5,
   "metadata": {},
   "outputs": [],
   "source": [
    "l1 = Layer(data.shape[1], 20,activation_function= \"sigmoid\")\n",
    "l2 = Layer(20, 10, activation_function = \"sigmoid\")\n",
    "l3 = Layer(10,5,activation_function = \"sigmoid\")\n",
    "l4 = Layer(5,1,activation_function = None)\n",
    "\n",
    "#Setting up the nerual network and adds each layer.\n",
    "nnet = NN(cost_function=\"mse\")\n",
    "nnet.add_layer(l1)\n",
    "nnet.add_layer(l2)\n",
    "nnet.add_layer(l3)\n",
    "nnet.add_layer(l4)"
   ]
  },
  {
   "cell_type": "markdown",
   "metadata": {},
   "source": [
    "Finding the time and the training MSE for the self made version. "
   ]
  },
  {
   "cell_type": "code",
   "execution_count": 6,
   "metadata": {},
   "outputs": [
    {
     "name": "stdout",
     "output_type": "stream",
     "text": [
      "1.2053158283233643\n",
      "MSE self made NN:  0.020240104307119436\n"
     ]
    }
   ],
   "source": [
    "start_time = time.time()\n",
    "nnet.train(data, target,500, 50, 0.001, 0.1)\n",
    "end_time = time.time()\n",
    "y_pred = nnet.predict(data)\n",
    "# print(y_pred)\n",
    "print(end_time-start_time)\n",
    "print(\"MSE self made NN: \", mean_squared_error(y_pred, target) )"
   ]
  },
  {
   "cell_type": "markdown",
   "metadata": {},
   "source": [
    "Finding the time for for fitting the network and the training MSE for sklearn's neural network. "
   ]
  },
  {
   "cell_type": "code",
   "execution_count": 7,
   "metadata": {},
   "outputs": [
    {
     "name": "stdout",
     "output_type": "stream",
     "text": [
      "0.07982444763183594\n",
      "MSE sklearn NN:  0.08151659395465805\n"
     ]
    }
   ],
   "source": [
    "nnet_sklearn = MLPRegressor(hidden_layer_sizes=(20, 10, 5), activation = \"logistic\", solver = \"sgd\", batch_size = 50, alpha = 0.1, learning_rate_init= 0.001, max_iter = 500)\n",
    "start_time_sklearn = time.time()\n",
    "nnet_sklearn.fit(data, np.ravel(target))\n",
    "end_time_sklearn= time.time()\n",
    "y_pred_sklearn = nnet_sklearn.predict(data)\n",
    "\n",
    "# print(y_pred_sklearn)\n",
    "print(end_time_sklearn - start_time_sklearn)\n",
    "print(\"MSE sklearn NN: \", mean_squared_error(y_pred_sklearn, target) )\n"
   ]
  },
  {
   "cell_type": "markdown",
   "metadata": {},
   "source": [
    "Using sigmoid/logistic activation functions with sklearn leads to worse results. However, the time it takes to fit the model is much faster. By using relu in all layers of sklearn's network, we will see that we get similar results to wha we obtained using the self made neural network. "
   ]
  },
  {
   "cell_type": "code",
   "execution_count": 8,
   "metadata": {
    "collapsed": true,
    "jupyter": {
     "outputs_hidden": true
    }
   },
   "outputs": [
    {
     "name": "stdout",
     "output_type": "stream",
     "text": [
      "0.36605334281921387\n",
      "MSE sklearn NN:  0.023627014210039723\n"
     ]
    }
   ],
   "source": [
    "nnet_sklearn = MLPRegressor(hidden_layer_sizes=(20, 10, 5), activation = \"relu\", solver = \"sgd\", batch_size = 50, alpha = 0.1, learning_rate_init= 0.001, max_iter = 500)\n",
    "start_time_sklearn = time.time()\n",
    "nnet_sklearn.fit(data, np.ravel(target))\n",
    "end_time_sklearn= time.time()\n",
    "y_pred_sklearn = nnet_sklearn.predict(data)\n",
    "\n",
    "# print(y_pred_sklearn)\n",
    "print(end_time_sklearn - start_time_sklearn)\n",
    "print(\"MSE sklearn NN: \", mean_squared_error(y_pred_sklearn, target) )"
   ]
  },
  {
   "cell_type": "markdown",
   "metadata": {},
   "source": [
    "The MSE are now much closer to the self made version. It uses a bit more time to fit the model with relu instead of sigmoid. "
   ]
  },
  {
   "cell_type": "markdown",
   "metadata": {},
   "source": [
    "# We can also time the code as a function of number of neurons in the hidden layers in the model. I will start with 10, and then increase them 10 by 10 up till 200. "
   ]
  },
  {
   "cell_type": "markdown",
   "metadata": {},
   "source": [
    "We see that sklearn implementation is faster by a lot. "
   ]
  },
  {
   "cell_type": "code",
   "execution_count": 8,
   "metadata": {},
   "outputs": [
    {
     "name": "stdout",
     "output_type": "stream",
     "text": [
      "10\n",
      "20\n",
      "30\n",
      "40\n",
      "50\n",
      "60\n",
      "70\n",
      "80\n",
      "90\n",
      "100\n"
     ]
    },
    {
     "data": {
      "image/png": "[encoded data removed]",
      "text/plain": [
       "<Figure size 432x288 with 1 Axes>"
      ]
     },
     "metadata": {
      "needs_background": "light"
     },
     "output_type": "display_data"
    }
   ],
   "source": [
    "import matplotlib.pyplot as plt \n",
    "\n",
    "time_self_made = []\n",
    "time_sklearn = []\n",
    "\n",
    "nodes_in_each_layer = [10,20,30,40,50,60,70,80,90,100]\n",
    "\n",
    "data, target = make_franke_vecs(0, 20)\n",
    "target = np.expand_dims(target, axis=1)\n",
    "sc = StandardScaler()\n",
    "data = sc.fit_transform(data)\n",
    "\n",
    "for nodes in nodes_in_each_layer:\n",
    "    print(nodes)\n",
    "    \n",
    "    nnet = NN(cost_function=\"mse\")\n",
    "    first_layer = Layer(data.shape[1], nodes,activation_function= \"sigmoid\")\n",
    "    added_layer = Layer(nodes,nodes, activation_function = \"sigmoid\")\n",
    "    added_layer2 = Layer(nodes,1, activation_function = \"sigmoid\")\n",
    "    nnet.add_layer(first_layer)\n",
    "    nnet.add_layer(added_layer)\n",
    "    nnet.add_layer(added_layer2)\n",
    "    start_time = time.time()\n",
    "    nnet.train(data, target,500, 50, 0.001, 0.1)\n",
    "    end_time = time.time()\n",
    "    \n",
    "    time_self_made.append(end_time - start_time)\n",
    "    \n",
    "    nnet_sklearn = MLPRegressor(hidden_layer_sizes=(nodes, nodes), activation = \"relu\", solver = \"sgd\", batch_size = 50, alpha = 0.1, learning_rate_init= 0.001, max_iter = 500)\n",
    "\n",
    "    start_time_sklearn = time.time()\n",
    "    nnet_sklearn.fit(data, np.ravel(target))\n",
    "    end_time_sklearn= time.time()\n",
    "    \n",
    "    time_sklearn.append(end_time_sklearn - start_time_sklearn)\n",
    "\n",
    "\n",
    "plt.plot(nodes_in_each_layer, time_self_made)\n",
    "plt.plot(nodes_in_each_layer, time_sklearn)\n",
    "plt.xlabel(\"Number of nodes in the two hidden layers\")\n",
    "plt.ylabel(\"Time [s]\")\n",
    "plt.legend([\"self made\", \"sklearn\"])\n",
    "plt.show()"
   ]
  },
  {
   "cell_type": "code",
   "execution_count": 6,
   "metadata": {},
   "outputs": [
    {
     "name": "stdout",
     "output_type": "stream",
     "text": [
      "Iteration 1, loss = 0.11173676\n",
      "Iteration 2, loss = 0.09127662\n",
      "Iteration 3, loss = 0.07142316\n",
      "Iteration 4, loss = 0.05818371\n",
      "Iteration 5, loss = 0.05166251\n",
      "Iteration 6, loss = 0.04830381\n",
      "Iteration 7, loss = 0.04714000\n",
      "Iteration 8, loss = 0.04659904\n",
      "Iteration 9, loss = 0.04642981\n",
      "Iteration 10, loss = 0.04641469\n",
      "Iteration 11, loss = 0.04640583\n",
      "Iteration 12, loss = 0.04639787\n",
      "Iteration 13, loss = 0.04640686\n",
      "Iteration 14, loss = 0.04638342\n",
      "Iteration 15, loss = 0.04637923\n",
      "Iteration 16, loss = 0.04636986\n",
      "Iteration 17, loss = 0.04635726\n",
      "Iteration 18, loss = 0.04634761\n",
      "Iteration 19, loss = 0.04633768\n",
      "Iteration 20, loss = 0.04633883\n",
      "Training loss did not improve more than tol=0.000100 for 10 consecutive epochs. Stopping.\n"
     ]
    },
    {
     "data": {
      "text/plain": [
       "MLPRegressor(activation='logistic', alpha=0.1, batch_size=50, beta_1=0.9,\n",
       "             beta_2=0.999, early_stopping=False, epsilon=1e-08,\n",
       "             hidden_layer_sizes=(20, 10), learning_rate='constant',\n",
       "             learning_rate_init=0.001, max_iter=500, momentum=0.9,\n",
       "             n_iter_no_change=10, nesterovs_momentum=True, power_t=0.5,\n",
       "             random_state=None, shuffle=True, solver='sgd', tol=0.0001,\n",
       "             validation_fraction=0.1, verbose=True, warm_start=False)"
      ]
     },
     "execution_count": 6,
     "metadata": {},
     "output_type": "execute_result"
    }
   ],
   "source": [
    "data, target = make_franke_vecs(0, 20)\n",
    "target = np.expand_dims(target, axis=1)\n",
    "sc = StandardScaler()\n",
    "data = sc.fit_transform(data)\n",
    "nnet_sklearn = MLPRegressor(hidden_layer_sizes=(20, 10), activation = \"logistic\", verbose= True, solver = \"sgd\", batch_size = 50, alpha = 0.1, learning_rate_init= 0.001, max_iter = 500)\n",
    "nnet_sklearn.fit(data, np.ravel(target))\n"
   ]
  },
  {
   "cell_type": "markdown",
   "metadata": {},
   "source": [
    "From the optimal values from part d, we see that the we actually obtained slightly better results using our model. However, this is for one single run but our algorithm seems to be working properly. "
   ]
  }
 ],
 "metadata": {
  "kernelspec": {
   "display_name": "Python 3",
   "language": "python",
   "name": "python3"
  },
  "language_info": {
   "codemirror_mode": {
    "name": "ipython",
    "version": 3
   },
   "file_extension": ".py",
   "mimetype": "text/x-python",
   "name": "python",
   "nbconvert_exporter": "python",
   "pygments_lexer": "ipython3",
   "version": "3.7.1"
  }
 },
 "nbformat": 4,
 "nbformat_minor": 4
}
