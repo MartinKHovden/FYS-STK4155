{
 "cells": [
  {
   "cell_type": "markdown",
   "metadata": {},
   "source": [
    "# PART C: NEURAL NETWORKS ON THE CREDIT CARD DATA"
   ]
  },
  {
   "cell_type": "markdown",
   "metadata": {},
   "source": [
    "## Importing the needed moduels"
   ]
  },
  {
   "cell_type": "code",
   "execution_count": 1,
   "metadata": {},
   "outputs": [],
   "source": [
    "from nn import NN, Layer, cv_classification_scores_nn\n",
    "from library import load_breast_cancer_data, load_credit_card_data\n",
    "\n",
    "from sklearn.preprocessing import StandardScaler\n",
    "from sklearn.metrics import accuracy_score, confusion_matrix, roc_auc_score, roc_curve\n",
    "from sklearn.model_selection import train_test_split\n",
    "\n",
    "from scikitplot.metrics import plot_confusion_matrix, plot_roc, plot_cumulative_gain\n",
    "\n",
    "import numpy as np\n",
    "import seaborn as sns\n",
    "import pandas as pd\n",
    "\n",
    "import matplotlib.pyplot as plt\n",
    "\n",
    "import time"
   ]
  },
  {
   "cell_type": "markdown",
   "metadata": {},
   "source": [
    "## LOADING THE DATA"
   ]
  },
  {
   "cell_type": "code",
   "execution_count": 2,
   "metadata": {},
   "outputs": [],
   "source": [
    "data, target = load_credit_card_data()\n",
    "data = np.array(data)\n",
    "target = np.array(target)"
   ]
  },
  {
   "cell_type": "markdown",
   "metadata": {},
   "source": [
    "## FINDING THE BEST NUMBER OF EPOCHS AND LAYERS. "
   ]
  },
  {
   "cell_type": "markdown",
   "metadata": {},
   "source": [
    "Will test for two different depths of the network, with different sizes on each layer. Every layer will have the sigmoid activation function. Since the space of possible architectures are so large, I have used some trial and error to find the two depths that I thought would work well without being to computationally expensive. Plots the area ratio for the 5 runs for each architecture."
   ]
  },
  {
   "cell_type": "markdown",
   "metadata": {},
   "source": [
    "### First with two hidden layers with 20 and 10 neurons each and learning rate = 0.001. No regularization parameter added."
   ]
  },
  {
   "cell_type": "code",
   "execution_count": 4,
   "metadata": {},
   "outputs": [],
   "source": [
    "l1 = Layer(data.shape[1], 20,activation_function= \"sigmoid\")\n",
    "l2 = Layer(20, 10, activation_function = \"sigmoid\")\n",
    "l4 = Layer(10,1,activation_function = \"sigmoid\")\n",
    "\n",
    "nnet = NN()\n",
    "nnet.add_layer(l1)\n",
    "nnet.add_layer(l2)\n",
    "nnet.add_layer(l4)"
   ]
  },
  {
   "cell_type": "code",
   "execution_count": 9,
   "metadata": {},
   "outputs": [
    {
     "name": "stdout",
     "output_type": "stream",
     "text": [
      "0\n",
      "1\n",
      "2\n",
      "3\n",
      "4\n",
      "0\n",
      "1\n",
      "2\n",
      "3\n",
      "4\n",
      "0\n",
      "1\n",
      "2\n",
      "3\n",
      "4\n",
      "0\n",
      "1\n",
      "2\n",
      "3\n",
      "4\n",
      "0\n",
      "1\n",
      "2\n",
      "3\n",
      "4\n"
     ]
    },
    {
     "data": {
      "image/png": "[encoded data removed]",
      "text/plain": [
       "<Figure size 432x288 with 1 Axes>"
      ]
     },
     "metadata": {
      "needs_background": "light"
     },
     "output_type": "display_data"
    },
    {
     "name": "stdout",
     "output_type": "stream",
     "text": [
      "0.5491824079201326\n"
     ]
    }
   ],
   "source": [
    "import matplotlib.pyplot as plt \n",
    "\n",
    "epochs = [2, 100, 200, 300, 400]\n",
    "# epochs = [50, 100]\n",
    "time_values = np.zeros(len(epochs))\n",
    "test_auc = np.zeros(len(epochs))\n",
    "test_area_ratio = np.zeros(len(epochs))\n",
    "max_test_area_ratio = 0\n",
    "\n",
    "n = 5\n",
    "for _ in range(n):\n",
    "    for i, epoch in enumerate(epochs):\n",
    "        print(i)\n",
    "        X_train, X_test, y_train, y_test = train_test_split(data, target, test_size=0.2)\n",
    "        \n",
    "        sc = StandardScaler()\n",
    "        X_train = sc.fit_transform(X_train)\n",
    "        X_test = sc.transform(X_test)\n",
    "\n",
    "        start_time = time.time()\n",
    "        nnet.train(X_train, y_train, epochs = epoch, batch_size = 10000, alpha = 0.001, lam = 0)\n",
    "        end_time = time.time()\n",
    "        \n",
    "        test_prob = nnet.predict(X_test)\n",
    "        test_pred = np.where(test_prob >= 0.5, 1, 0)\n",
    "        \n",
    "        temp = np.concatenate((1-test_prob, test_prob), axis=1)\n",
    "\n",
    "\n",
    "        ax = plot_cumulative_gain(y_test, temp)\n",
    "        plt.close()\n",
    "        \n",
    "        lines = ax.lines\n",
    "        cm =lines[1]\n",
    "        model_ydata = cm.get_ydata()\n",
    "        model_xdata = cm.get_xdata()\n",
    "\n",
    "        area_model_curve = np.trapz(model_ydata, model_xdata)\n",
    "\n",
    "        area_optimal_curve = 0.788 + 0.5*0.2212\n",
    "\n",
    "        area_baseline_curve = 0.5\n",
    "\n",
    "        area_ratio = (area_model_curve-area_baseline_curve)/(area_optimal_curve - area_baseline_curve)\n",
    "        test_auc[i] = roc_auc_score(y_test, test_pred)\n",
    "        time_values[i] = (end_time - start_time)\n",
    "        test_area_ratio[i] = area_ratio\n",
    "    plt.plot(epochs, test_area_ratio)\n",
    "    if max(test_area_ratio) > max_test_area_ratio:\n",
    "        max_test_area_ratio = max(test_area_ratio)\n",
    "\n",
    "plt.xlabel(\"epochs\")\n",
    "plt.ylabel(\"area ratio\")\n",
    "plt.ylim((0, 1))\n",
    "plt.savefig(fname = r\"Plots\\nn_2_layers_lr_001_test_area_ratio_5_runs.png\")\n",
    "plt.show()\n",
    "\n",
    "print(\"Best area ratio\", max_test_area_ratio)"
   ]
  },
  {
   "cell_type": "markdown",
   "metadata": {},
   "source": [
    "## For two hidden layrs with 20 and 10 neurons and learning rate = 0.00001. No regularization parameter added. "
   ]
  },
  {
   "cell_type": "code",
   "execution_count": 3,
   "metadata": {},
   "outputs": [],
   "source": [
    "l1 = Layer(data.shape[1], 20,activation_function= \"sigmoid\")\n",
    "l2 = Layer(20, 10, activation_function = \"sigmoid\")\n",
    "l4 = Layer(10,1,activation_function = \"sigmoid\")\n",
    "\n",
    "nnet = NN()\n",
    "nnet.add_layer(l1)\n",
    "nnet.add_layer(l2)\n",
    "nnet.add_layer(l4)"
   ]
  },
  {
   "cell_type": "code",
   "execution_count": 5,
   "metadata": {},
   "outputs": [
    {
     "name": "stdout",
     "output_type": "stream",
     "text": [
      "0\n",
      "1\n",
      "2\n",
      "3\n",
      "4\n",
      "5\n",
      "0\n",
      "1\n",
      "2\n",
      "3\n",
      "4\n",
      "5\n",
      "0\n",
      "1\n",
      "2\n",
      "3\n",
      "4\n",
      "5\n",
      "0\n",
      "1\n",
      "2\n",
      "3\n",
      "4\n",
      "5\n",
      "0\n",
      "1\n",
      "2\n",
      "3\n",
      "4\n",
      "5\n"
     ]
    },
    {
     "data": {
      "image/png": "[encoded data removed]",
      "text/plain": [
       "<Figure size 432x288 with 1 Axes>"
      ]
     },
     "metadata": {
      "needs_background": "light"
     },
     "output_type": "display_data"
    },
    {
     "name": "stdout",
     "output_type": "stream",
     "text": [
      "0.47221282168643636\n"
     ]
    }
   ],
   "source": [
    "import matplotlib.pyplot as plt \n",
    "\n",
    "epochs = [2, 100, 200, 300, 400, 500]\n",
    "# epochs = [50, 100]\n",
    "time_values = np.zeros(len(epochs))\n",
    "test_auc = np.zeros(len(epochs))\n",
    "test_area_ratio = np.zeros(len(epochs))\n",
    "max_test_area_ratio = 0\n",
    "\n",
    "n = 5\n",
    "for _ in range(n):\n",
    "    for i, epoch in enumerate(epochs):\n",
    "        print(i)\n",
    "        X_train, X_test, y_train, y_test = train_test_split(data, target, test_size=0.2)\n",
    "        \n",
    "        sc = StandardScaler()\n",
    "        X_train = sc.fit_transform(X_train)\n",
    "        X_test = sc.transform(X_test)\n",
    "\n",
    "        start_time = time.time()\n",
    "        nnet.train(X_train, y_train, epochs = epoch, batch_size = 10000, alpha = 0.00001, lam = 0)\n",
    "        end_time = time.time()\n",
    "        \n",
    "        test_prob = nnet.predict(X_test)\n",
    "        test_pred = np.where(test_prob >= 0.5, 1, 0)\n",
    "        \n",
    "        temp = np.concatenate((1-test_prob, test_prob), axis=1)\n",
    "\n",
    "\n",
    "        ax = plot_cumulative_gain(y_test, temp)\n",
    "        plt.close()\n",
    "        lines = ax.lines\n",
    "        \n",
    "        cm =lines[1]\n",
    "        model_ydata = cm.get_ydata()\n",
    "        model_xdata = cm.get_xdata()\n",
    "\n",
    "        area_model_curve = np.trapz(model_ydata, model_xdata)\n",
    "\n",
    "        area_optimal_curve = 0.788 + 0.5*0.2212\n",
    "\n",
    "        area_baseline_curve = 0.5\n",
    "\n",
    "        area_ratio = (area_model_curve-area_baseline_curve)/(area_optimal_curve - area_baseline_curve)\n",
    "        test_auc[i] = roc_auc_score(y_test, test_pred)\n",
    "        time_values[i] = (end_time - start_time)\n",
    "        test_area_ratio[i] = area_ratio\n",
    "        \n",
    "    plt.plot(epochs, test_area_ratio)\n",
    "    if max(test_area_ratio) > max_test_area_ratio:\n",
    "        max_test_area_ratio = max(test_area_ratio)\n",
    "\n",
    "plt.xlabel(\"epochs\")\n",
    "plt.ylabel(\"area ratio\")\n",
    "plt.ylim((0, 1))\n",
    "plt.savefig(fname = r\"Plots\\nn_2_layers_lr_00001_test_area_ratio_5_runs.png\")\n",
    "plt.show()\n",
    "\n",
    "print(\"Best area ratio:\", max_test_area_ratio)"
   ]
  },
  {
   "cell_type": "markdown",
   "metadata": {},
   "source": [
    "# Now testing for 4 layers."
   ]
  },
  {
   "cell_type": "markdown",
   "metadata": {},
   "source": [
    "## For four hidden layers with 30,20,20 and 10 neurons with sigmoid activation function. Learning rate = 0.001. No regularization added. "
   ]
  },
  {
   "cell_type": "code",
   "execution_count": 6,
   "metadata": {},
   "outputs": [],
   "source": [
    "l1_ = Layer(data.shape[1], 30,activation_function= \"sigmoid\")\n",
    "l2_ = Layer(30, 20, activation_function = \"sigmoid\")\n",
    "l3_ = Layer(20, 20, activation_function = \"sigmoid\")\n",
    "l4_ = Layer(20, 10, activation_function = \"sigmoid\")\n",
    "l5_ = Layer(10,1,activation_function = \"sigmoid\")\n",
    "\n",
    "nnet_ = NN()\n",
    "nnet_.add_layer(l1_)\n",
    "nnet_.add_layer(l2_)\n",
    "nnet_.add_layer(l3_)\n",
    "nnet_.add_layer(l4_)\n",
    "nnet_.add_layer(l5_)"
   ]
  },
  {
   "cell_type": "code",
   "execution_count": 7,
   "metadata": {},
   "outputs": [
    {
     "name": "stdout",
     "output_type": "stream",
     "text": [
      "0\n",
      "1\n",
      "2\n",
      "3\n",
      "4\n",
      "0\n",
      "1\n",
      "2\n",
      "3\n",
      "4\n",
      "0\n",
      "1\n",
      "2\n",
      "3\n",
      "4\n",
      "0\n",
      "1\n",
      "2\n",
      "3\n",
      "4\n",
      "0\n",
      "1\n",
      "2\n",
      "3\n",
      "4\n"
     ]
    },
    {
     "data": {
      "image/png": "[encoded data removed]",
      "text/plain": [
       "<Figure size 432x288 with 1 Axes>"
      ]
     },
     "metadata": {
      "needs_background": "light"
     },
     "output_type": "display_data"
    },
    {
     "name": "stdout",
     "output_type": "stream",
     "text": [
      "0.5396352485389323\n"
     ]
    }
   ],
   "source": [
    "import matplotlib.pyplot as plt \n",
    "\n",
    "epochs = [2, 100, 200, 300, 400]\n",
    "# epochs = [50, 100]\n",
    "time_values = np.zeros(len(epochs))\n",
    "test_auc = np.zeros(len(epochs))\n",
    "test_area_ratio = np.zeros(len(epochs))\n",
    "max_test_area_ratio = 0\n",
    "\n",
    "n = 5\n",
    "for _ in range(n):\n",
    "    for i, epoch in enumerate(epochs):\n",
    "        print(i)\n",
    "        X_train, X_test, y_train, y_test = train_test_split(data, target, test_size=0.2)\n",
    "        \n",
    "        sc = StandardScaler()\n",
    "        X_train = sc.fit_transform(X_train)\n",
    "        X_test = sc.transform(X_test)\n",
    "\n",
    "        start_time = time.time()\n",
    "        nnet_.train(X_train, y_train, epochs = epoch, batch_size = 10000, alpha = 0.001, lam = 0)\n",
    "        end_time = time.time()\n",
    "        \n",
    "        test_prob = nnet_.predict(X_test)\n",
    "        test_pred = np.where(test_prob >= 0.5, 1, 0)\n",
    "        \n",
    "        temp = np.concatenate((1-test_prob, test_prob), axis=1)\n",
    "\n",
    "\n",
    "        ax = plot_cumulative_gain(y_test, temp)\n",
    "        plt.close()\n",
    "        \n",
    "        lines = ax.lines\n",
    "        cm =lines[1]\n",
    "        model_ydata = cm.get_ydata()\n",
    "        model_xdata = cm.get_xdata()\n",
    "\n",
    "        area_model_curve = np.trapz(model_ydata, model_xdata)\n",
    "\n",
    "        area_optimal_curve = 0.788 + 0.5*0.2212\n",
    "\n",
    "        area_baseline_curve = 0.5\n",
    "\n",
    "        area_ratio = (area_model_curve-area_baseline_curve)/(area_optimal_curve - area_baseline_curve)\n",
    "        test_auc[i] = roc_auc_score(y_test, test_pred)\n",
    "        time_values[i] = (end_time - start_time)\n",
    "        test_area_ratio[i] = area_ratio\n",
    "        \n",
    "    plt.plot(epochs, test_area_ratio)\n",
    "    if max(test_area_ratio) > max_test_area_ratio:\n",
    "        max_test_area_ratio = max(test_area_ratio)\n",
    "\n",
    "plt.xlabel(\"epochs\")\n",
    "plt.ylabel(\"area ratio\")\n",
    "plt.ylim((0, 1))\n",
    "# plt.title(\"Test error for 10 different runs with learning rate = 0.001\")\n",
    "plt.savefig(fname = r\"Plots\\nn_4_layers_lr_001_test_area_ratio_5_runs.png\")\n",
    "plt.show()\n",
    "\n",
    "print(max_test_area_ratio)"
   ]
  },
  {
   "cell_type": "markdown",
   "metadata": {},
   "source": [
    "# Four hidden layers with 30, 20, 20 and 10 neurons. Learning rate = 0.00001. No ragularization parameter. "
   ]
  },
  {
   "cell_type": "code",
   "execution_count": 10,
   "metadata": {},
   "outputs": [
    {
     "name": "stdout",
     "output_type": "stream",
     "text": [
      "0\n",
      "1\n",
      "2\n",
      "3\n",
      "4\n",
      "5\n",
      "0\n",
      "1\n",
      "2\n",
      "3\n",
      "4\n",
      "5\n",
      "0\n",
      "1\n",
      "2\n",
      "3\n",
      "4\n",
      "5\n",
      "0\n",
      "1\n",
      "2\n",
      "3\n",
      "4\n",
      "5\n",
      "0\n",
      "1\n",
      "2\n",
      "3\n",
      "4\n",
      "5\n"
     ]
    },
    {
     "data": {
      "image/png": "[encoded data removed]",
      "text/plain": [
       "<Figure size 432x288 with 1 Axes>"
      ]
     },
     "metadata": {
      "needs_background": "light"
     },
     "output_type": "display_data"
    },
    {
     "name": "stdout",
     "output_type": "stream",
     "text": [
      "0.46075197868976087\n"
     ]
    }
   ],
   "source": [
    "import matplotlib.pyplot as plt \n",
    "\n",
    "epochs = [2, 100, 200, 300, 400, 500]\n",
    "\n",
    "time_values = np.zeros(len(epochs))\n",
    "test_auc = np.zeros(len(epochs))\n",
    "test_area_ratio = np.zeros(len(epochs))\n",
    "\n",
    "max_test_area_ratio = 0\n",
    "\n",
    "n = 5\n",
    "for _ in range(n):\n",
    "    for i, epoch in enumerate(epochs):\n",
    "        print(i)\n",
    "        X_train, X_test, y_train, y_test = train_test_split(data, target, test_size=0.2)\n",
    "        \n",
    "        sc = StandardScaler()\n",
    "        X_train = sc.fit_transform(X_train)\n",
    "        X_test = sc.transform(X_test)\n",
    "\n",
    "        start_time = time.time()\n",
    "        nnet_.train(X_train, y_train, epochs = epoch, batch_size = 10000, alpha = 0.00001, lam = 0)\n",
    "        end_time = time.time()\n",
    "        \n",
    "        test_prob = nnet_.predict(X_test)\n",
    "        test_pred = np.where(test_prob >= 0.5, 1, 0)\n",
    "        \n",
    "        temp = np.concatenate((1-test_prob, test_prob), axis=1)\n",
    "\n",
    "\n",
    "        ax = plot_cumulative_gain(y_test, temp)\n",
    "        plt.close()\n",
    "        \n",
    "        lines = ax.lines\n",
    "        cm =lines[1]\n",
    "        model_ydata = cm.get_ydata()\n",
    "        model_xdata = cm.get_xdata()\n",
    "\n",
    "        area_model_curve = np.trapz(model_ydata, model_xdata)\n",
    "\n",
    "        area_optimal_curve = 0.788 + 0.5*0.2212\n",
    "\n",
    "        area_baseline_curve = 0.5\n",
    "\n",
    "        area_ratio = (area_model_curve-area_baseline_curve)/(area_optimal_curve - area_baseline_curve)\n",
    "        test_auc[i] = roc_auc_score(y_test, test_pred)\n",
    "        time_values[i] = (end_time - start_time)\n",
    "        test_area_ratio[i] = area_ratio\n",
    "        \n",
    "    plt.plot(epochs, test_area_ratio)\n",
    "    if max(test_area_ratio) > max_test_area_ratio:\n",
    "        max_test_area_ratio = max(test_area_ratio)\n",
    "\n",
    "plt.xlabel(\"epochs\")\n",
    "plt.ylabel(\"area ratio\")\n",
    "plt.ylim((0, 1))\n",
    "plt.savefig(fname = r\"Plots\\nn_4_layers_lr_00001_test_area_ratio_5_runs.png\")\n",
    "plt.show()\n",
    "\n",
    "print(max_test_area_ratio)"
   ]
  },
  {
   "cell_type": "markdown",
   "metadata": {},
   "source": [
    "# GRID SEARCH FOR FINDING THE OPTIMAL LEARNING RATE AND REGULARIZATION PARAMETERS (I would run the normal python script instead for doing grid-search. The plots gets much nicer. "
   ]
  },
  {
   "cell_type": "code",
   "execution_count": 1,
   "metadata": {},
   "outputs": [],
   "source": [
    "from nn import NN, Layer, cv_classification_scores_nn\n",
    "from library import load_breast_cancer_data, load_credit_card_data\n",
    "\n",
    "from sklearn.preprocessing import StandardScaler\n",
    "from sklearn.metrics import accuracy_score, confusion_matrix, roc_auc_score, roc_curve\n",
    "from sklearn.model_selection import train_test_split\n",
    "\n",
    "from scikitplot.metrics import plot_confusion_matrix, plot_roc, plot_cumulative_gain\n",
    "\n",
    "import numpy as np\n",
    "import seaborn as sns\n",
    "import pandas as pd\n",
    "\n",
    "import matplotlib.pyplot as plt\n",
    "\n",
    "data, target = load_credit_card_data()\n",
    "data = np.array(data)\n",
    "target = np.array(target)\n",
    "\n",
    "l1 = Layer(data.shape[1], 20,activation_function= \"sigmoid\")\n",
    "l2 = Layer(20, 10, activation_function = \"sigmoid\")\n",
    "l4 = Layer(10,1,activation_function = \"sigmoid\")\n",
    "\n",
    "nnet = NN()\n",
    "nnet.add_layer(l1)\n",
    "nnet.add_layer(l2)\n",
    "nnet.add_layer(l4)"
   ]
  },
  {
   "cell_type": "code",
   "execution_count": null,
   "metadata": {},
   "outputs": [
    {
     "name": "stdout",
     "output_type": "stream",
     "text": [
      "Area-ratio 0.1275815941484015\n",
      "AUC-score:  0.5650445019386798\n",
      "Accuracy:  0.7813333333333333\n",
      "[[4688    3]\n",
      " [1309    0]]\n"
     ]
    }
   ],
   "source": [
    "#DOING A GRID SEARCH FOR FINE TUNING OF THE PARAMETERS.\n",
    "n_lr_values = 5\n",
    "lr_values = np.logspace(-6,-2, n_lr_values)\n",
    "\n",
    "n_reg_lam_values =  6\n",
    "reg_lam_values = np.logspace(-6,-1,n_reg_lam_values)\n",
    "auc_scores = np.zeros(shape=(n_lr_values, n_reg_lam_values))\n",
    "accuracy_scores = np.zeros(shape=(n_lr_values, n_reg_lam_values))\n",
    "area_ratio_scores = np.zeros(shape=(n_lr_values, n_reg_lam_values))\n",
    "\n",
    "for i, learning_rate in enumerate(lr_values):\n",
    "    for j, reg_lam in enumerate(reg_lam_values):\n",
    "        cv_area_ratio, cv_auc, cv_accuracy = cv_classification_scores_nn(5, data, target, nnet, 300, 10000, learning_rate, reg_lam) \n",
    "        auc_scores[i,j] = cv_auc\n",
    "        accuracy_scores[i,j] = cv_accuracy\n",
    "        area_ratio_scores[i,j] = cv_area_ratio\n",
    "        print(auc_scores[i,j])\n",
    "        print(cv_area_ratio)\n",
    "\n",
    "#PLOTTING HEATMAPS FOR THE GRIDSEARCH\n",
    "auc_scores = pd.DataFrame(auc_scores, columns=np.round(reg_lam_values,6), index =np.round(lr_values,6) )\n",
    "accuracy_scores = pd.DataFrame(accuracy_scores, columns=np.round(reg_lam_values,6), index =np.round(lr_values,6) )"
   ]
  },
  {
   "cell_type": "code",
   "execution_count": 3,
   "metadata": {},
   "outputs": [
    {
     "data": {
      "image/png": "[encoded data removed]",
      "text/plain": [
       "<Figure size 432x288 with 4 Axes>"
      ]
     },
     "metadata": {
      "needs_background": "light"
     },
     "output_type": "display_data"
    }
   ],
   "source": [
    "plt.subplot(121)\n",
    "ax = sns.heatmap(area_ratio_scores, annot=True, fmt=\".4f\", linewidths=0.5, cbar_kws={\"label\": \"auc score\" })\n",
    "plt.ylim(top = 0, bottom=n_lr_values)\n",
    "plt.xlabel(\"regularization parameter\")\n",
    "plt.ylabel(\"learning rate\")\n",
    "\n",
    "plt.subplot(122)\n",
    "ax = sns.heatmap(accuracy_scores, annot=True, fmt=\".4f\", linewidths=0.5, cbar_kws={\"label\": \"accuracy score\" })\n",
    "plt.ylim(top = 0, bottom=n_lr_values)\n",
    "plt.xlabel(\"regularization parameter\")\n",
    "plt.ylabel(\"learning rate\")\n",
    "\n",
    "plt.show()"
   ]
  },
  {
   "cell_type": "markdown",
   "metadata": {},
   "source": [
    "# PLOTTING THE ROC CURVE AND OTHER METRICS"
   ]
  },
  {
   "cell_type": "code",
   "execution_count": 3,
   "metadata": {},
   "outputs": [],
   "source": [
    "data, target = load_credit_card_data()\n",
    "data = np.array(data)\n",
    "target = np.array(target)\n",
    "\n",
    "l1 = Layer(data.shape[1], 20,activation_function= \"sigmoid\")\n",
    "l2 = Layer(20, 10, activation_function = \"sigmoid\")\n",
    "l4 = Layer(10,1,activation_function = \"sigmoid\")\n",
    "\n",
    "nnet_best = NN()\n",
    "nnet_best.add_layer(l1)\n",
    "nnet_best.add_layer(l2)\n",
    "nnet_best.add_layer(l4)"
   ]
  },
  {
   "cell_type": "code",
   "execution_count": 4,
   "metadata": {},
   "outputs": [],
   "source": [
    "X_train, X_test, y_train, y_test = train_test_split(data, target, test_size = 0.2)\n",
    "\n",
    "sc = StandardScaler()\n",
    "X_train = sc.fit_transform(X_train)\n",
    "X_test = sc.transform(X_test)"
   ]
  },
  {
   "cell_type": "code",
   "execution_count": 5,
   "metadata": {},
   "outputs": [],
   "source": [
    "nnet_best.train(X_train, y_train, 300, 10000, alpha = 0.001, lam = 0.01)\n",
    "\n",
    "y_probabilities = nnet_best.predict(X_test)\n",
    "y_pred = np.where(y_probabilities >= 0.5, 1, 0)"
   ]
  },
  {
   "cell_type": "code",
   "execution_count": 30,
   "metadata": {},
   "outputs": [
    {
     "data": {
      "image/png": "[encoded data removed]",
      "text/plain": [
       "<Figure size 432x288 with 1 Axes>"
      ]
     },
     "metadata": {
      "needs_background": "light"
     },
     "output_type": "display_data"
    },
    {
     "name": "stdout",
     "output_type": "stream",
     "text": [
      "[<matplotlib.lines.Line2D object at 0x0000027DF96D0278>, <matplotlib.lines.Line2D object at 0x0000027DF916ACC0>, <matplotlib.lines.Line2D object at 0x0000027DF916AC50>]\n",
      "0.4721917218485927\n"
     ]
    }
   ],
   "source": [
    "temp = np.concatenate((1-y_probabilities, y_probabilities), axis=1)\n",
    "\n",
    "plot_roc(y_test, temp,plot_micro=False, plot_macro=False)\n",
    "plt.show()\n",
    "\n",
    "ax = plot_cumulative_gain(y_test, temp)\n",
    "lines = ax.lines\n",
    "cm =lines[1]\n",
    "model_ydata = cm.get_ydata()\n",
    "model_xdata = cm.get_xdata()\n",
    "\n",
    "area_model_curve = np.trapz(model_ydata, model_xdata)\n",
    "\n",
    "area_optimal_curve = 0.788 + 0.5*0.2212\n",
    "\n",
    "area_baseline_curve = 0.5\n",
    "\n",
    "area_ratio = (area_model_curve-area_baseline_curve)/(area_optimal_curve - area_baseline_curve)\n",
    "\n",
    "print(area_ratio)"
   ]
  },
  {
   "cell_type": "markdown",
   "metadata": {},
   "source": [
    "We can do calculate the area under the curve multiple times and then take the average to find an accurate value. Also implemented in the cross-valdiation function for neural networks for classification. "
   ]
  },
  {
   "cell_type": "code",
   "execution_count": 9,
   "metadata": {},
   "outputs": [
    {
     "name": "stdout",
     "output_type": "stream",
     "text": [
      "0\n",
      "1\n",
      "Area ratio:  0.5076693743486684\n"
     ]
    }
   ],
   "source": [
    "values = []\n",
    "for i in range(2):\n",
    "    print(i)\n",
    "    X_train, X_test, y_train, y_test = train_test_split(data, target, test_size = 0.2)\n",
    "    sc = StandardScaler()\n",
    "    X_train = sc.fit_transform(X_train)\n",
    "    X_test = sc.transform(X_test)\n",
    "    nnet_best.train(X_train, y_train, 300, 10000, alpha = 0.001, lam = 0.01)\n",
    "\n",
    "    y_probabilities = nnet_best.predict(X_test)\n",
    "    y_pred = np.where(y_probabilities >= 0.5, 1, 0)\n",
    "    \n",
    "    temp = np.concatenate((1-y_probabilities, y_probabilities), axis=1)\n",
    "\n",
    "    \n",
    "    ax = plot_cumulative_gain(y_test, temp)\n",
    "    plt.close()\n",
    "    lines = ax.lines\n",
    "    cm =lines[1]\n",
    "    model_ydata = cm.get_ydata()\n",
    "    model_xdata = cm.get_xdata()\n",
    "\n",
    "    area_model_curve = np.trapz(model_ydata, model_xdata)\n",
    "\n",
    "    area_optimal_curve = 0.788 + 0.5*0.2212\n",
    "\n",
    "    area_baseline_curve = 0.5\n",
    "\n",
    "    area_ratio = (area_model_curve-area_baseline_curve)/(area_optimal_curve - area_baseline_curve)\n",
    "    \n",
    "    values.append(area_ratio)\n",
    "\n",
    "print(\"Area ratio: \", np.mean(values))\n",
    "    \n",
    "    \n",
    "    \n",
    "    "
   ]
  }
 ],
 "metadata": {
  "kernelspec": {
   "display_name": "Python 3",
   "language": "python",
   "name": "python3"
  },
  "language_info": {
   "codemirror_mode": {
    "name": "ipython",
    "version": 3
   },
   "file_extension": ".py",
   "mimetype": "text/x-python",
   "name": "python",
   "nbconvert_exporter": "python",
   "pygments_lexer": "ipython3",
   "version": "3.7.1"
  }
 },
 "nbformat": 4,
 "nbformat_minor": 4
}
