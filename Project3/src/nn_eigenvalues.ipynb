{
 "cells": [
  {
   "cell_type": "markdown",
   "metadata": {},
   "source": [
    "# Finding eigenvalues of matrices with neural networks. "
   ]
  },
  {
   "cell_type": "markdown",
   "metadata": {},
   "source": [
    "Script for finding the eigenvectors corresponding to the largest eigenvalue of a matrix with a neural network. The idea is to find the steady state of the differential equation $\\frac{dx(t)}{dt} = -x(t) + f(x(t))$ where $f(x) = [x^TxA + (1-x^TAx)I]x$. Since we are looking for the steady state, we set $\\frac{dx(t)}{dt} = 0$ and we are left with solving the equation $x = [x^TxA + (1-x^TAx)I]x$. This can done using tensorflow 1. The idea is to set up a neural network that takes an random vector as input and transforms this vector to the solution x. This can be done by introducing the loss function $Loss = MSE(x, f(x))$. The following script is based on the lecture notes in FYS-STK4155. Some parameters can be chosen. num_iter is the maximum number of iterations for the traning of the neural network. learning_rate is the step length in the gradient descent method when traning the neural network. precision is the criteria for when to stop the trianing (if max is not reached). "
   ]
  },
  {
   "cell_type": "markdown",
   "metadata": {},
   "source": [
    "## The method is implemented as follows:"
   ]
  },
  {
   "cell_type": "code",
   "execution_count": 8,
   "metadata": {},
   "outputs": [
    {
     "name": "stdout",
     "output_type": "stream",
     "text": [
      "[[0.73226725 0.47787427 0.61724428 0.87025615 0.26483054 0.46805582]\n",
      " [0.47787427 0.39464279 0.31475892 0.26076868 0.24813765 0.47866796]\n",
      " [0.61724428 0.31475892 0.83864138 0.8378511  0.33978901 0.60903542]\n",
      " [0.87025615 0.26076868 0.8378511  0.29715185 0.93241803 0.64813176]\n",
      " [0.26483054 0.24813765 0.33978901 0.93241803 0.85834939 0.41329663]\n",
      " [0.46805582 0.47866796 0.60903542 0.64813176 0.41329663 0.96960967]]\n",
      "A =  Tensor(\"Const:0\", shape=(6, 6), dtype=float64)\n",
      "[0.42200924 0.2582136  0.44667136 0.47008326 0.37705241 0.43883009]\n",
      "x0 =  Tensor(\"Reshape:0\", shape=(1, 6), dtype=float64)\n",
      "dnn_output =  Tensor(\"dnn/dense_1/BiasAdd:0\", shape=(1, 6), dtype=float64)\n",
      "x_trial =  Tensor(\"loss/transpose:0\", shape=(6, 1), dtype=float64)\n",
      "Tensor(\"loss/mul:0\", shape=(6, 6), dtype=float64)\n",
      "Tensor(\"loss/mul_1:0\", shape=(6, 6), dtype=float64)\n",
      "Tensor(\"loss/Tensordot_3:0\", shape=(6, 1), dtype=float64)\n",
      "Step: 0 / 10000 loss:  0.9714878\n",
      "Step: 100 / 10000 loss:  0.005677818\n",
      "Step: 200 / 10000 loss:  0.0010859716\n",
      "Step: 300 / 10000 loss:  0.0002569159\n",
      "Step: 400 / 10000 loss:  6.4382475e-05\n",
      "Step: 500 / 10000 loss:  1.6552916e-05\n",
      "Step: 600 / 10000 loss:  4.3335926e-06\n",
      "Step: 700 / 10000 loss:  1.1532029e-06\n",
      "Step: 800 / 10000 loss:  3.1176444e-07\n",
      "Step: 900 / 10000 loss:  8.5599844e-08\n",
      "Step: 1000 / 10000 loss:  2.3856808e-08\n",
      "Step: 1100 / 10000 loss:  6.744827e-09\n",
      "Step: 1200 / 10000 loss:  1.9319935e-09\n",
      "Step: 1300 / 10000 loss:  5.6038135e-10\n",
      "Step: 1400 / 10000 loss:  1.6422164e-10\n",
      "Step: 1500 / 10000 loss:  4.8551014e-11\n",
      "Step: 1600 / 10000 loss:  1.4536076e-11\n",
      "Step: 1700 / 10000 loss:  4.3636574e-12\n",
      "Step: 1800 / 10000 loss:  1.3163545e-12\n",
      "Step: 1900 / 10000 loss:  3.9634962e-13\n",
      "Step: 2000 / 10000 loss:  1.1875685e-13\n",
      "Step: 2100 / 10000 loss:  3.6711374e-14\n",
      "Step: 2200 / 10000 loss:  1.239749e-14\n",
      "Step: 2300 / 10000 loss:  3.6267287e-15\n",
      "Step: 2400 / 10000 loss:  1.1842379e-15\n",
      "Step: 2500 / 10000 loss:  2.220446e-16\n",
      "Step: 2600 / 10000 loss:  1.8503717e-16\n",
      "Step: 2700 / 10000 loss:  3.7007435e-17\n",
      "Step: 2800 / 10000 loss:  0.0\n",
      "time =  1.1736149787902832\n"
     ]
    }
   ],
   "source": [
    "import tensorflow.compat.v1 as tf\n",
    "tf.disable_v2_behavior()\n",
    "tf.reset_default_graph()\n",
    "tf.set_random_seed(83)  #83\n",
    "import numpy as np\n",
    "np.random.seed(98) #97\n",
    "import time\n",
    "\n",
    "from matplotlib import cm\n",
    "from matplotlib import pyplot as plt\n",
    "from mpl_toolkits.mplot3d import axes3d\n",
    "# from lib import compute_dx_dt\n",
    "\n",
    "matrix_size = 6  #Size of the matrix A. \n",
    "\n",
    "#Sets up a random symmetric real matrix with dimension (matrix_size, matrix_size). \n",
    "A = np.random.random_sample(size=(matrix_size,matrix_size))\n",
    "A = (A.T + A)/2.0\n",
    "\n",
    "print(A)\n",
    "\n",
    "#Saves the matrix for later use. \n",
    "start_matrix = A \n",
    "\n",
    "#Calculates the analytic eigenvalues. \n",
    "eigen_vals, eigen_vecs =  np.linalg.eig(A)\n",
    "\n",
    "#Converts to tensor so that tensorflow can work with it. Put a minus sign in front to find smallest eigenvalue. \n",
    "A = tf.convert_to_tensor(A)\n",
    "print(\"A = \", A)\n",
    "\n",
    "print(eigen_vecs[:,0])\n",
    "\n",
    "#Initializes a random input vector with the same size as the eigenvectors of A. \n",
    "x = np.random.random_sample(size=(1,matrix_size))\n",
    "\n",
    "# k = eigen_vecs[:,0]\n",
    "# x -= x.dot(k) * k / np.linalg.norm(k)**2\n",
    "\n",
    "# print(np.dot(x, k))\n",
    "\n",
    "#Converts the input to a tensor of correct shape. \n",
    "x_0 = tf.convert_to_tensor(tf.reshape(x, shape=(1,-1)))\n",
    "print(\"x0 = \", x_0)\n",
    "\n",
    "\n",
    "num_iter = 10000   #Number of iterations of training the network. \n",
    "num_hidden_neurons = [100]      #List of number of neurons in each layer. Add elements to add layers to network. \n",
    "num_hidden_layers = np.size(num_hidden_neurons)\n",
    "\n",
    "#Sets up the network according to specified values above. \n",
    "with tf.variable_scope('dnn'):\n",
    "    previous_layer = x_0\n",
    "\n",
    "    for l in range(num_hidden_layers):\n",
    "        current_layer = tf.layers.dense(previous_layer, num_hidden_neurons[l],activation=tf.nn.sigmoid)\n",
    "        previous_layer = current_layer\n",
    "\n",
    "    dnn_output = tf.layers.dense(previous_layer, matrix_size)\n",
    "\n",
    "#Defines the loss function as described above. \n",
    "with tf.name_scope('loss'):\n",
    "    print(\"dnn_output = \", dnn_output)\n",
    "    \n",
    "    x_trial = tf.transpose(dnn_output)\n",
    "    print(\"x_trial = \", x_trial)\n",
    "    \n",
    "    #Calculates the parts of the loss function separately. \n",
    "    temp1 = (tf.tensordot(tf.transpose(x_trial), x_trial, axes=1)*A)\n",
    "    temp2 = (1- tf.tensordot(tf.transpose(x_trial), tf.tensordot(A, x_trial, axes=1), axes=1))*np.eye(matrix_size)\n",
    "    func = tf.tensordot((temp1-temp2), x_trial, axes=1)\n",
    "    \n",
    "    print(temp1)\n",
    "    print(temp2)\n",
    "    print(func)\n",
    "    \n",
    "    func = tf.transpose(func)\n",
    "    x_trial = tf.transpose(x_trial)\n",
    "    \n",
    "    loss = tf.losses.mean_squared_error(func, x_trial)\n",
    "\n",
    "###\n",
    "#  SET PARAMETERS \n",
    "###\n",
    "learning_rate = 0.001 # Learning rate for the neural network. \n",
    "precision = 0         # Precision treshold. Stops when loss is smaller. \n",
    "\n",
    "#Sets up how to train the model. Chooses the optimizer and sets the learning rate chosen.  \n",
    "with tf.name_scope('train'):\n",
    "    optimizer = tf.train.GradientDescentOptimizer(learning_rate)\n",
    "    traning_op = optimizer.minimize(loss)\n",
    "\n",
    "init = tf.global_variables_initializer()\n",
    "\n",
    "g_dnn = None\n",
    "\n",
    "losses = []\n",
    "\n",
    "conv = []\n",
    "iters = []\n",
    "\n",
    "time_start = time.time()\n",
    "with tf.Session() as sess:\n",
    "    init.run()\n",
    "    i = 0\n",
    "#     for i in range(num_iter):\n",
    "    continue_iter = True\n",
    "    while i < num_iter and continue_iter:\n",
    "        sess.run(traning_op)\n",
    "\n",
    "        if i % 100 == 0:\n",
    "            l = loss.eval()\n",
    "            print(\"Step:\", i, \"/\",num_iter, \"loss: \", l)                \n",
    "            losses.append(l)\n",
    "            conv.append(x_trial.eval()[0].T)\n",
    "            iters.append(i)\n",
    "        if l <= precision:\n",
    "            break\n",
    "        i+=1\n",
    "\n",
    "    x_dnn = x_trial.eval()\n",
    "x_dnn = x_dnn.T\n",
    "\n",
    "print(\"time = \", time.time() - time_start)"
   ]
  },
  {
   "cell_type": "markdown",
   "metadata": {},
   "source": [
    "## Plotting loss over time"
   ]
  },
  {
   "cell_type": "code",
   "execution_count": 3,
   "metadata": {},
   "outputs": [
    {
     "data": {
      "image/png": "[encoded data removed]",
      "text/plain": [
       "<Figure size 1152x720 with 1 Axes>"
      ]
     },
     "metadata": {
      "needs_background": "light"
     },
     "output_type": "display_data"
    }
   ],
   "source": [
    "plot_length = 40\n",
    "plt.figure(figsize=(16,10))\n",
    "plt.plot(iters[:plot_length],losses[:plot_length])\n",
    "plt.xlabel(\"Iteration\")\n",
    "plt.ylabel(\"Loss\")\n",
    "plt.show()\n",
    "plt.close()"
   ]
  },
  {
   "cell_type": "markdown",
   "metadata": {},
   "source": [
    "## Plotting the components of the eigenvectors as a function of iteration."
   ]
  },
  {
   "cell_type": "code",
   "execution_count": 4,
   "metadata": {},
   "outputs": [
    {
     "data": {
      "image/png": "[encoded data removed]",
      "text/plain": [
       "<Figure size 1152x720 with 1 Axes>"
      ]
     },
     "metadata": {
      "needs_background": "light"
     },
     "output_type": "display_data"
    }
   ],
   "source": [
    "plot_length = 50\n",
    "plt.figure(figsize=(16,10))\n",
    "plt.plot(iters[:plot_length], conv[:plot_length], color=\"k\", linewidth=0.8)\n",
    "plt.ylim(-0.4, 0)\n",
    "plt.xlabel(\"Iterations\", fontsize=20)\n",
    "plt.legend([\"Eigenvector components\"], fontsize=20)\n",
    "plt.savefig(r\"Plots/convergence_of_eigenvector.png\")\n",
    "plt.show()\n",
    "plt.close()"
   ]
  },
  {
   "cell_type": "markdown",
   "metadata": {},
   "source": [
    "## Printing eigenvector and eigenvalues"
   ]
  },
  {
   "cell_type": "code",
   "execution_count": 5,
   "metadata": {},
   "outputs": [
    {
     "name": "stdout",
     "output_type": "stream",
     "text": [
      "Eigenvector NN = \n",
      " [[-0.42200925]\n",
      " [-0.25821362]\n",
      " [-0.44667138]\n",
      " [-0.47008322]\n",
      " [-0.37705239]\n",
      " [-0.4388301 ]] \n",
      "\n",
      "Eigenvalue NN = \n",
      " [[3.37070192]] \n",
      " \n",
      "\n",
      "Eigenvector analytic = \n",
      " [[ 0.42200924  0.34367059 -0.29630828  0.45533274  0.46571911  0.43792459]\n",
      " [ 0.2582136  -0.13466039 -0.26108    -0.654866   -0.22909364  0.60472818]\n",
      " [ 0.44667136  0.21292646 -0.23276914 -0.46049211  0.32326012 -0.62001247]\n",
      " [ 0.47008326 -0.81898912  0.20760118  0.16437036  0.1904933  -0.04330113]\n",
      " [ 0.37705241  0.37410143  0.82534911 -0.11086322 -0.09831237  0.12133623]\n",
      " [ 0.43883009  0.08788837 -0.25604252  0.33535261 -0.76169003 -0.20374727]]\n",
      "\n",
      "\n",
      "Eigenvalues analytic = \n",
      " [ 3.37070192 -0.73845294  0.6952692   0.01513973  0.46017383  0.2878306 ]\n"
     ]
    }
   ],
   "source": [
    "print(\"Eigenvector NN = \\n\", (x_dnn/(x_dnn**2).sum()**0.5), \"\\n\")\n",
    "\n",
    "eigen_val_nn = x_dnn.T @ (start_matrix @ x_dnn) / (x_dnn.T @ x_dnn)\n",
    "\n",
    "print(\"Eigenvalue NN = \\n\", eigen_val_nn, \"\\n \\n\")\n",
    "print(\"Eigenvector analytic = \\n\", eigen_vecs)\n",
    "print(\"\\n\")\n",
    "print(\"Eigenvalues analytic = \\n\",eigen_vals)\n"
   ]
  }
 ],
 "metadata": {
  "kernelspec": {
   "display_name": "Python 3",
   "language": "python",
   "name": "python3"
  },
  "language_info": {
   "codemirror_mode": {
    "name": "ipython",
    "version": 3
   },
   "file_extension": ".py",
   "mimetype": "text/x-python",
   "name": "python",
   "nbconvert_exporter": "python",
   "pygments_lexer": "ipython3",
   "version": "3.7.1"
  }
 },
 "nbformat": 4,
 "nbformat_minor": 4
}
