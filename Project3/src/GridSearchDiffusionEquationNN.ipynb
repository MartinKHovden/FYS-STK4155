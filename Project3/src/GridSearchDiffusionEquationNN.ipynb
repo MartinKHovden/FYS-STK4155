{
 "cells": [
  {
   "cell_type": "markdown",
   "metadata": {},
   "source": [
    "# Hyperparameter-tuning for solving the diffusion equation with a neural network. "
   ]
  },
  {
   "cell_type": "markdown",
   "metadata": {},
   "source": [
    "### In this notebook we do a grid-search for finding the optimal learning rate and regularization parameter when solving the diffusion equation with a neural network. "
   ]
  },
  {
   "cell_type": "markdown",
   "metadata": {},
   "source": [
    "We start by setting up the problem and then iterating through the domain of parameters we want to explore. "
   ]
  },
  {
   "cell_type": "code",
   "execution_count": 3,
   "metadata": {},
   "outputs": [
    {
     "name": "stdout",
     "output_type": "stream",
     "text": [
      "WARNING:tensorflow:From c:\\users\\marth\\appdata\\local\\programs\\python\\python37\\lib\\site-packages\\tensorflow_core\\python\\compat\\v2_compat.py:65: disable_resource_variables (from tensorflow.python.ops.variable_scope) is deprecated and will be removed in a future version.\n",
      "Instructions for updating:\n",
      "non-resource variables are not supported in the long term\n",
      "WARNING:tensorflow:From C:\\Users\\marth\\OneDrive\\Dokumenter\\GitHub\\FYS-STK_project3\\diffusion_solvers.py:74: dense (from tensorflow.python.layers.core) is deprecated and will be removed in a future version.\n",
      "Instructions for updating:\n",
      "Use keras.layers.Dense instead.\n",
      "WARNING:tensorflow:From c:\\users\\marth\\appdata\\local\\programs\\python\\python37\\lib\\site-packages\\tensorflow_core\\python\\layers\\core.py:187: Layer.apply (from tensorflow.python.keras.engine.base_layer) is deprecated and will be removed in a future version.\n",
      "Instructions for updating:\n",
      "Please use `layer.__call__` method instead.\n",
      "Step: 0 / 1000 loss:  39.35039\n",
      "Time =  0.5957205295562744  seconds\n",
      "MSE =  0.0043385188578556454\n",
      "Step: 0 / 1000 loss:  235.39267\n",
      "Time =  0.6372947692871094  seconds\n",
      "MSE =  0.004777571718226303\n",
      "Step: 0 / 1000 loss:  11.36008\n",
      "Time =  0.7809116840362549  seconds\n",
      "MSE =  0.004513362238072854\n",
      "Step: 0 / 1000 loss:  9.979308\n",
      "Time =  0.7659497261047363  seconds\n",
      "MSE =  0.01597701408439354\n",
      "Step: 0 / 1000 loss:  11.572434\n",
      "Time =  0.8218028545379639  seconds\n",
      "MSE =  0.016245065458388636\n",
      "Step: 0 / 1000 loss:  11.823742\n",
      "Time =  0.8038113117218018  seconds\n",
      "MSE =  0.01658264110285771\n",
      "Step: 0 / 1000 loss:  12.846208\n",
      "Time =  0.9365081787109375  seconds\n",
      "MSE =  0.0588840045733517\n",
      "Step: 0 / 1000 loss:  12.681779\n",
      "Time =  0.8806109428405762  seconds\n",
      "MSE =  0.05640846313059979\n",
      "Step: 0 / 1000 loss:  10.634582\n",
      "Time =  0.9833700656890869  seconds\n",
      "MSE =  0.058319698817432764\n",
      "Step: 0 / 1000 loss:  10.232668\n",
      "Time =  1.0058133602142334  seconds\n",
      "MSE =  0.061267781046599905\n",
      "Step: 0 / 1000 loss:  10.94921\n",
      "Time =  1.0292479991912842  seconds\n",
      "MSE =  0.060926758000970825\n",
      "Step: 0 / 1000 loss:  10.950151\n",
      "Time =  1.1229987144470215  seconds\n",
      "MSE =  0.06042991073041617\n",
      "[[0.00433852 0.00477757 0.00451336]\n",
      " [0.01597701 0.01624507 0.01658264]\n",
      " [0.058884   0.05640846 0.0583197 ]\n",
      " [0.06126778 0.06092676 0.06042991]]\n"
     ]
    }
   ],
   "source": [
    "from diffusion_solvers import nn_diffusion_solver\n",
    "import numpy as np \n",
    "import matplotlib.pyplot as plt \n",
    "import tensorflow.compat.v1 as tf\n",
    "\n",
    "tf.disable_v2_behavior()\n",
    "tf.reset_default_graph()\n",
    "\n",
    "Nx = 10\n",
    "x_np = np.linspace(0,1,Nx)\n",
    "\n",
    "Nt = 10\n",
    "t_np = np.linspace(0,1,Nt)\n",
    "\n",
    "X,T = np.meshgrid(x_np, t_np)\n",
    "\n",
    "x = X.ravel()\n",
    "t = T.ravel()\n",
    "\n",
    "x = tf.reshape(tf.convert_to_tensor(x),shape=(-1,1))\n",
    "t = tf.reshape(tf.convert_to_tensor(t),shape=(-1,1))\n",
    "\n",
    "points = tf.concat([x,t],1)\n",
    "\n",
    "num_iter = 1000\n",
    "num_hidden_neurons = [50]\n",
    "\n",
    "learning_rates = [0.1,0.01, 0.001, 0.0001]\n",
    "regularizations = [0,0.1,0.001]\n",
    "\n",
    "num_learning_rates = len(learning_rates)\n",
    "num_regularizations = len(regularizations)\n",
    "\n",
    "MSEs = np.zeros(shape=(num_learning_rates, num_regularizations))\n",
    "\n",
    "i= j = 0\n",
    "\n",
    "for lr in learning_rates:\n",
    "    for reg_param in regularizations:\n",
    "        analytic, nn, _, _ = nn_diffusion_solver(num_iter, lr, reg_param, num_hidden_neurons, points, x, t)\n",
    "        MSE = np.mean((analytic-nn)**2)\n",
    "        print(\"MSE = \", MSE)\n",
    "        tf.get_variable_scope().reuse_variables()\n",
    "        MSEs[j,i] = MSE\n",
    "        i+=1\n",
    "    i=0\n",
    "    j+=1\n",
    "    \n",
    "print(MSEs)"
   ]
  },
  {
   "cell_type": "markdown",
   "metadata": {},
   "source": [
    "### Plotting a heatmap of the grid-search"
   ]
  },
  {
   "cell_type": "code",
   "execution_count": 4,
   "metadata": {},
   "outputs": [
    {
     "data": {
      "image/png": "[encoded data removed]",
      "text/plain": [
       "<Figure size 1080x360 with 2 Axes>"
      ]
     },
     "metadata": {
      "needs_background": "light"
     },
     "output_type": "display_data"
    }
   ],
   "source": [
    "import seaborn as sns\n",
    "import pandas as pd\n",
    "import numpy as np \n",
    "\n",
    "MSEs = pd.DataFrame(MSEs, columns=np.round(regularizations,6), index =np.round(learning_rates,6) )\n",
    "\n",
    "fig = plt.figure(figsize=(15,5))\n",
    "\n",
    "ax = sns.heatmap(MSEs, annot=True, fmt=\"1.2e\", linewidths=0.5, cbar_kws={\"label\": \"mse score\"})\n",
    "plt.ylim(top = 0, bottom=num_regularizations+1)\n",
    "plt.xlabel(\"regularization parameter\", fontsize=20)\n",
    "plt.ylabel(\"learning rate\", fontsize=20)\n",
    "\n",
    "plt.savefig(r\"Plots/heatmap_diffusion.png\")\n",
    "\n",
    "plt.show()"
   ]
  }
 ],
 "metadata": {
  "kernelspec": {
   "display_name": "Python 3",
   "language": "python",
   "name": "python3"
  },
  "language_info": {
   "codemirror_mode": {
    "name": "ipython",
    "version": 3
   },
   "file_extension": ".py",
   "mimetype": "text/x-python",
   "name": "python",
   "nbconvert_exporter": "python",
   "pygments_lexer": "ipython3",
   "version": "3.7.1"
  }
 },
 "nbformat": 4,
 "nbformat_minor": 4
}
